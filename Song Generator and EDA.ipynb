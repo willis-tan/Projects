{
 "cells": [
  {
   "cell_type": "markdown",
   "metadata": {},
   "source": [
    "# Introduction\n",
    "\n",
    "A while back, I noticed something popping up on my Facebook feed saying something about randomly generated Iron Maiden song lyrics. I recently learned about the natural language processing in college and was curious how that generator was created. Given the extra time I have due to lockdown, I decided to create my own version of a song generator by making use of n-gram probability models.\n",
    "\n",
    "Instead of making a generator for just Iron Maiden or any one band, I wanted my generator to make a song any artist that you can think of. In addition, I want my generator to create songs that are in the style of certain albums, from a specified date range, or even a mish-mash of multiple artists.\n",
    "\n",
    "For this project, I will be using an azlyrics API written by AnthonyBloomer and adhorrig. However, a part of the source code for this API doesn't work, so I will be using a slightly modified version of their API. There will also be some brief exploratory data analysis perfomed."
   ]
  },
  {
   "cell_type": "markdown",
   "metadata": {},
   "source": [
    "# azlyrics overview\n",
    "## TODO"
   ]
  },
  {
   "cell_type": "code",
   "execution_count": 59,
   "metadata": {},
   "outputs": [],
   "source": [
    "# Credit goes to AnthonyBloomer and adhorrig for making the azlyrics module\n",
    "# https://github.com/adhorrig/azlyrics\n",
    "\n",
    "import azlyrics as azl\n",
    "import time"
   ]
  },
  {
   "cell_type": "code",
   "execution_count": 54,
   "metadata": {},
   "outputs": [],
   "source": [
    "grouplove = azl.songs('grouplove')"
   ]
  },
  {
   "cell_type": "code",
   "execution_count": 55,
   "metadata": {},
   "outputs": [
    {
     "data": {
      "text/plain": [
       "{'artist': 'grouplove',\n",
       " 'albums': {'Grouplove': ['Colours',\n",
       "   'Naked Kids',\n",
       "   'Gold Coast',\n",
       "   'Getaway Car',\n",
       "   \"Don't Say Oh Well\",\n",
       "   'Get Giddy'],\n",
       "  'Never Trust A Happy Song': [\"Itchin' On A Photograph\",\n",
       "   'Tongue Tied',\n",
       "   'Lovely Cup',\n",
       "   'Colours',\n",
       "   'Slow',\n",
       "   'Naked Kids',\n",
       "   'Spun',\n",
       "   \"Betty's A Bomb Shell\",\n",
       "   'Chloe',\n",
       "   'Love Will Save Your Soul',\n",
       "   'Cruel And Beautiful World',\n",
       "   'Close Your Eyes And Count To Ten',\n",
       "   'Je Pense Toujours A Toi(French Bonus Track)'],\n",
       "  'Spreading Rumours': [\"I'm With You\",\n",
       "   'Borderlines And Aliens',\n",
       "   'Schoolboy',\n",
       "   'Ways To Go',\n",
       "   'Shark Attack',\n",
       "   'Sit Still',\n",
       "   'Hippy Hill',\n",
       "   'What I Know',\n",
       "   \"Didn't Have To Go\",\n",
       "   \"Bitin' The Bullet\",\n",
       "   'News To Me',\n",
       "   'Raspberry',\n",
       "   'Save The Party',\n",
       "   'Girl(Deluxe Edition Bonus Track)',\n",
       "   'Flowers(Deluxe Edition Bonus Track)',\n",
       "   'Beans On Pizza(Deluxe Edition Bonus Track)'],\n",
       "  'Big Mess': ['Welcome To Your Life',\n",
       "   'Do You Love Someone',\n",
       "   'Standing In The Sun',\n",
       "   'Enlighten Me',\n",
       "   'Good Morning',\n",
       "   'Spinning',\n",
       "   'Cannonball',\n",
       "   'Traumatized',\n",
       "   'Heart Of Mine',\n",
       "   \"Don't Stop Making It Happen\",\n",
       "   'Hollywood',\n",
       "   'Remember That Night(Reissue Bonus Track)'],\n",
       "  'Little Mess': ['Tell Me A Story',\n",
       "   'Torso',\n",
       "   'MRI',\n",
       "   'Enlighten Me (Live)',\n",
       "   'Adios Amigos'],\n",
       "  'Healer': ['Deleter',\n",
       "   'Inside Out',\n",
       "   'Expectations',\n",
       "   'The Great Unknown',\n",
       "   'Youth',\n",
       "   'Places',\n",
       "   'Promises',\n",
       "   'Ahead Of Myself',\n",
       "   'Hail To The Queen',\n",
       "   'Burial',\n",
       "   'This Is Everything']}}"
      ]
     },
     "execution_count": 55,
     "metadata": {},
     "output_type": "execute_result"
    }
   ],
   "source": [
    "grouplove"
   ]
  },
  {
   "cell_type": "code",
   "execution_count": 60,
   "metadata": {},
   "outputs": [],
   "source": [
    "album2 = grouplove['albums']['Healer']\n",
    "dataset = \"\"\n",
    "for song in album2:\n",
    "    dataset = dataset + azl.lyrics(\"Grouplove\", song)[0]\n",
    "    time.sleep(3)\n",
    "    "
   ]
  },
  {
   "cell_type": "code",
   "execution_count": 61,
   "metadata": {},
   "outputs": [
    {
     "data": {
      "text/plain": [
       "'\\n\\r\\nOne, two, three, go\\n\\nYeah, your carwash\\nAnd your airplanes, and the highways\\nWe\\'ve been here for too long, for too long\\nAm I anxious or just martyred?\\nAll this darkness\\nBeen going on too long, for too long\\nYeah, yeah, yeah\\n\\nAll this time I thought you were a leader\\nIt turns out you\\'re only a deleter\\nTell your friends that you\\'re okay\\nYou\\'re never gonna see them anyway\\nAll this time I thought you were a leader\\nIt turns out you\\'re only a deleter\\nNo, no, no, no\\nNa-na-na-na-na-na-na-na-na no\\nNo, no\\nYeah, yeah\\n\\nIt\\'s the future and I\\'m braindead\\nYeah, I\\'m destitute, yeah, I feel no roots anymore, anymore\\nTake another picture (Picture)\\nShow \\'em what you\\'re doing (Doing)\\nAnd how we built a lighthouse\\nOut of all these godforsaken ruins\\nWe know it\\'s coming\\nNone of this can live\\nThe world will recover once you put us in the past, yeah\\n\\nAll this time I thought you were a leader\\nIt turns out you\\'re only a deleter\\nTell your friends that you\\'re okay\\nYou\\'re never gonna see them anyway\\nAll this time I thought you were a leader\\nIt turns out you\\'re only a deleter\\nNo, no, no, no\\nNa-na-na-na-na-na-na-na-na no\\nNo, no\\nYeah, yeah\\n\\nI don\\'t know\\nWhere to go\\nBring the pain\\nBring the pain, I\\'m braindead\\nI just know, I know you\\'re gonna let me out\\nSo bring the pain\\nNothing really matters anymore, my baby\\n\\nAll this time we\\'re burning with the fever\\nIt turns out I\\'ve always been a healer\\nNo, no, no, no\\nNa-na-na-na-na-na-na-na-na\\nAll this time I thought you were a leader\\nIt turns out you\\'re only a deleter\\nNo, no, no, no\\nNa-na-na-na-na-na-na-na-na no\\nNo, no\\nYeah, yeah\\n\\n\\r\\nYeah, I think I know what I\\'ve always failed to see\\nThat nothin\\' in this world comes at you for free\\nBut how you gonna count all your ones and twos?\\n\\'Cause we all need somethin\\' to do\\n\\nInside out\\nYeah, we just got to turn ourselves\\nInside out\\nYeah, we just got to turn ourselves\\nInside out\\nYeah, we just got to turn ourselves\\nInside out\\nYeah, we just got to turn ourselves\\nInside out\\n\\nWhen you found out there\\'s something so real in me\\nAnd that I\\'ll turn out how I am supposed to be\\nYeah, you don\\'t gotta look at my every move\\nBut we all need somethin\\' to do\\n\\nInside out\\nYeah, we just got to turn ourselves\\nInside out\\nYeah, we just got to turn ourselves\\nInside out\\nYeah, we just got to turn ourselves\\nInside out\\nYeah, I dare you\\n\\nBaby\\nYou\\'re makin\\' me crazy\\nYou got the only thing goin\\'\\nThat I know\\'s worth waitin\\' for\\n\\nBaby\\nHow you amaze me\\nYeah, you got the only thing goin\\'\\nThat I know\\'s worth waitin\\' for\\n\\nInside out\\nYeah, we just got to turn ourselves\\nInside out\\nYeah, we just got to turn ourselves\\nInside out\\nYeah, we just got to turn ourselves\\nInside out\\nYeah, we just got to turn ourselves\\n\\nInside out\\nYeah, we just got to turn ourselves\\nInside out\\nYeah, we just got to turn ourselves\\nInside out\\nYeah, we just got to turn ourselves\\nInside out\\nYeah, I dare you\\n\\nInside out\\nI dare you\\n\\n\\r\\nYou got moves, you got style\\nYou got time, you got too much expectations\\nDo your thing, even try\\nWhy not shine? You got too much expectations\\nI just pull you in\\nLet\\'s just mix around\\nShow me truth, show me strength\\nShow me some, I got too much expectations\\n\\nEvery time I fall, you won\\'t let me in\\nYou just want a star\\nSomething\\'s always wrong, you won\\'t make it right\\nLet\\'s just both give in\\n\\nJust dance, just dance, take off all your clothes\\nWe gon\\' step into the fire\\nJust move, just move, come on and get close\\nWe gon\\' push it even further\\nJust dance, just dance, take off all your clothes\\nWe gon\\' step into the fire\\nJust move, just move, come on and get close\\nWe gon\\' push it even further, push it even further\\n\\nSee your blues, see your pain\\nSee you cry, you got too much obligation\\nMovin\\' slow, body tight\\nFeel the knife, let\\'s let go of obligation\\n\\nEvery time I fall, you won\\'t let me in\\nYou just want a star\\nSomething\\'s always wrong, you won\\'t make it right\\nLet\\'s just both give in\\n\\nJust dance, just dance, take off all your clothes\\nWe gon\\' step into the fire\\nJust move, just move, come on and get close\\nWe gon\\' push it even further\\nJust dance, just dance, take off all your clothes\\nWe gon\\' step into the fire\\nJust move, just move, come on and get close\\nWe gon\\' push it even further, push it even further\\n\\nJust dance, just dance, take off all your clothes\\nWe gon\\' step into the fire\\nJust move, just move, come on and get close\\nWe gon\\' push it even further\\nJust dance, just dance, take off all your clothes\\nWe gon\\' step into the fire\\nJust move, just move, come on and get close\\nWe gon\\' push it even further, push it even further\\nJust dance, just dance, take off all your clothes\\nWe gon\\' step into the fire\\nJust move, just move, come on and get close\\nWe gon\\' push it even further\\n\\nJust dance, just dance\\nJust move, just move (Come on and get close)\\n(We gon\\' push it even further, push it even further)\\n\\n\\r\\nBless the farmer planting his seeds\\nPull away that poison ivy\\nI dig all day to make a clearing\\nTrouble goes away, the clouds are disappearing\\nI\\'m so alert, the only side of the dirt\\nAnother day of some honest work\\n\\nE-I, E-I, E-i-O-O\\nWe like, we like to watch it grow\\nYou-I, me-I, she-I must know\\nWhen everything around us is going dim\\n\\nThen one morning, I woke from my dream\\nSaw my landlord staring at me\\nHe said, \"Pay me or you\\'ll have to leave\\nYou got \\'til the end of the day\"\\n\\nE-I, E-I, E-i-O-O\\nWe got, we got self-control\\nYou-I, me-I, she-I must go\\n\\'Cause nothing really lasts forever\\n\\nOh, at the empty end of the road\\nYou\\'ve seen all the piles of gold\\nI wanna stay right here\\n\\nDon\\'t got to tell me, I already know\\nIt starts beautiful, then goes casino\\nOh, place your bets on what comes next\\nI bet we all gonna get ice cream\\n\\nE-I, E-I, E-i-O-O\\nWe are, we are on our own\\nYou-I, me-I, she-I must go\\nInto the great unknown\\nE-I, E-I, E-i-O-O\\nWe are, we are on our own\\nYou-I, me-I, she-I must go\\nInto the great unknown\\nE-I, E-I, E-i-O-O\\nWe are, we are on our own\\nYou-I, me-I, she-I must go\\nInto the great unknown\\n\\n\\r\\nYou\\'re so serious, always in your head, just makin\\' plans\\nI\\'m on a runway, you are in a plane that never lands\\nI tried to tell you life is gonna pass you by\\nStay in this moment or you\\'ll find yourself runnin\\' out of time\\n\\nThe night\\'s so young, let\\'s set it on fire\\n(Buncha kids and we\\'re playin\\' with matches, yeah)\\nYeah, the night\\'s so young, let\\'s set it on fire\\n(Just kids, yeah, just kids)\\n\\nThat\\'s just my youth takin\\' over\\nThat\\'s just the truth, come over\\nThat\\'s just my youth takin\\' over\\nThat\\'s just the truth, come over\\n\\nI\\'ve got a ticket to a carnival tonight, yeah\\nWant nothin\\' more than for you to take a ride with me\\nOr we can go upside down, way up higher, we can see the town\\nAll I want is for you to take a right, a right\\n\\nThe night\\'s so young, let\\'s set it on fire\\n(Buncha kids and we\\'re playin\\' with matches, yeah)\\nYeah, the night\\'s so young, let\\'s set it on fire\\n(Just kids, yeah, just kids)\\n\\nThat\\'s just my youth takin\\' over\\nThat\\'s just the truth, come over\\nThat\\'s just my youth takin\\' over\\nThat\\'s just the truth, come over\\n\\nThat\\'s just my youth takin\\' over\\nThat\\'s just the truth, come over\\nThat\\'s just my youth takin\\' over\\nThat\\'s just the truth, come over\\n\\n\\r\\nThere\\'s a place where I\\'m runnin\\' from\\nBut we don\\'t know how to get there\\nYeah, there\\'s a place where I\\'m runnin\\' from\\nBut we don\\'t know how to get there\\nYeah, we learned to tap both hands down\\nWe try to see the sands, we try to hear the sounds\\nAnd if we can do it, we\\'re makin\\' our hearts pound for infinity\\nI don\\'t know about it, no, I don\\'t think I\\'m comin\\' home tonight\\nI don\\'t know about it, no, I don\\'t think I\\'ll ever make it right\\n\\nThere\\'s a place where I\\'m runnin\\' from\\nBut we don\\'t know how to get there\\nYeah, there\\'s a place where I\\'m runnin\\' from\\nBut we don\\'t know how to get there\\nYeah, we learned to tap both hands down\\nWe try to see the sands, we try to hear the sounds\\nAnd if we can do it, we\\'re makin\\' our hearts pound for infinity\\nYeah, I don\\'t know about it, I don\\'t think I\\'m comin\\' home tonight\\nI don\\'t know about it, yeah, I don\\'t think I\\'ll ever make things right\\n\\n(Oh, oh)\\n(Oh, oh)\\n(Oh, oh)\\n(Oh, oh)\\n(Oh, oh)\\nYeah, yeah\\nOoh, ooh\\n\\nYeah, there\\'s a place where I\\'m runnin\\' from\\nBut we don\\'t know how to get there\\nYeah, there\\'s a place where I\\'m runnin\\' from\\nBut we don\\'t know how to get there, mmm\\n\\n\\r\\nNothin\\' disappoints me like the news, nothin\\' disappoints me\\nNothing\\'s gonna hit you like the truth, nothing\\'s gonna hit you\\nThrough a reporter\\nYou\\'re just followin\\' orders\\nClosin\\' your eyes and tellin\\' lies while they\\'re taking our daughters\\n\\nNobody been keepin\\' their promises\\nSomebody better keep their promises\\nNobody been keepin\\' their promises\\nNeed somebody to keep their promises\\n\\nI got news for you, Uncle Sam\\nI got no use for you\\nYou\\'re just another made up man in a stupid costume\\nHere comes a magician and he\\'s got no tricks\\nWants to cut the ladies in half\\nHe ain\\'t seen the future like we all did\\n\\'Cause he\\'s livin\\' in the dark ages\\n\\nNobody been keepin\\' their promises\\nSomebody better keep their promises\\nNobody been keepin\\' their promises\\nNeed somebody to keep their promises\\nNobody been keepin\\' their promises\\nSomebody better keep their promises\\nNobody been keepin\\' their promises\\nNeed somebody to keep their promises\\n\\nHow many bullets does it take\\nTo put a hole in the light?\\nThey keep telling us we have to wait\\nWe ain\\'t got the time\\nEvery day\\'s a cheat day, a cheat day\\nPut on by a cheapskate, a cheapskate\\nWe\\'re all in a deep state, a deep state\\nA deep state of delusion\\n\\nNobody been keepin\\' their promises\\nSomebody better keep their promises\\nNobody been keepin\\' their promises\\nNeed somebody to keep their promises\\nNobody been keepin\\' their promises\\nSomebody better keep their promises\\nNobody been keepin\\' their promises\\nNeed somebody to keep their promises\\n\\n\\r\\nShould I reconsider all the side effects before I get ahead of myself, ahead of myself?\\nI know my liver must be mad at me because I just neglect my health, neglect my health\\n\\nThey say I do too much\\nWell, there ain\\'t much time\\nI think I\\'m losin\\' touch, missin\\' all the good times\\nIs it your ego? Or is it all that pride?\\nIt must be tough for you, holding all that shit inside\\nLet\\'s do some shit we won\\'t remember\\nWe\\'ll be great pretenders\\nOne more and then I\\'m goin\\' home\\nThey\\'ll be no worries \\'bout tomorrow\\nNow there\\'s time to borrow\\nOne more and then I\\'m goin\\' home\\n\\nI know I said last time was the last time but for real this is the last time now, the last time now\\nIf you don\\'t ask questions I won\\'t even second guess when we\\'re spinning out, I\\'m spinning out\\n\\nThey say I do too much\\nWell, there ain\\'t much time\\nI think they\\'re losin\\' touch, missin\\' all the good times\\nIs it your ego? Or is it all that pride?\\nIt must be tough for you, holding all that shit inside\\nLet\\'s do some shit we won\\'t remember\\nWe\\'ll be great pretenders\\nOne more and then I\\'m goin\\' home\\nThey\\'ll be no worries \\'bout tomorrow\\nNow there\\'s time to borrow\\nOne more and then I\\'m goin\\' home\\nOne more and then I\\'m goin\\' home\\n\\nYeah, let\\'s get lost tonight\\nYou\\'ll just fall apart to let the world fall back on me\\nYeah, only you can see\\nI\\'ll make you feel alright\\nBut it\\'s only temporary time you\\'ll spend with me\\nYour temporary time, so we\\'ll just fall off\\n\\nIs it your ego? Or is it all that pride?\\nIt must be tough for you, holding all that shit inside\\nLet\\'s do some shit we won\\'t remember\\nWe\\'ll be great pretenders\\nOne more and then I\\'m goin\\' home\\nThey\\'ll be no worries \\'bout tomorrow\\nNow there\\'s time to borrow\\nOne more and then I\\'m goin\\' home\\nOne more and then I\\'m goin\\' home\\nOne more and then I\\'m goin\\' home\\n\\n\\r\\nWhat would you do if I told ya\\nThat the world is fillin\\' with soldiers?\\nI\\'d tell you what I\\'d do if I were you\\nI\\'d get out from under the covers\\nAnd gather all the lovers\\nAnd teach this foolish world a thing or two\\nDon\\'t needa be stressed out or left out, we\\'re with you\\nIt\\'s always better together, we\\'re with you\\nI been chasin\\' rabbits all my life\\nDown the deepest hole to the other side\\nOne thing that I learned along the way\\nThere will be no nightmares of where I went\\n\\nAll we need is a little cooperation\\nI swear we can do almost anything\\n\\nI can\\'t believe my luck\\nI\\'ve got another chance\\nI\\'m gonna hail to the queen of hearts\\nOh, shine your light on me\\nNo, I can\\'t believe my luck\\nI\\'ve got another chance\\nI\\'m gonna hail to the queen of hearts\\nOh, shine your light on me\\n\\nWhat if you had a notion\\nWe\\'d all get swallowed in ocean\\nI\\'d tell you what I\\'d do if I were you (If I were you)\\nI\\'d summon all the whales\\nWe\\'d ride upon their tails\\nTogether we can sail under the moon\\nDon\\'t needa be stressed out or left out, we\\'re with you\\nIt\\'s always better together, we\\'re with you\\n\\nAll we need is a little cooperation\\nI swear we can always work it out, yeah\\n\\nI can\\'t believe my luck\\nI\\'ve got another chance\\nI\\'m gonna hail to the queen of hearts\\nOh, shine your light on me\\nNo, I can\\'t believe my luck\\nI\\'ve got another chance\\nI\\'m gonna hail to the queen of hearts\\nOh, shine your light on me\\n\\nAll we need is a little cooperation (I\\'m gonna hail to the queen)\\nAll we need is a little cooperation (I\\'m gonna say what I mean)\\nAll we need is a little cooperation (I\\'m gonna hail to the queen)\\nAll we need is a little cooperation (I\\'m gonna hail to the, hail to the...)\\n(Oh)\\n\\n\\r\\nThis is all I got left\\nA broken record and a dog\\nIf I\\'m bein\\' honest\\nThis\\'ll be our last song\\nDirty little secret\\nBuried in my backyard\\nTell me I might reach it\\nAt least it got me this par\\n\\nBurial\\nI\\'m broken but you can\\'t break me\\nBurial\\nOh, put me in the ground with the dailies, yeah\\n(Ooh)\\n\\nThis is all I got left\\nMy middle finger all night long\\nI\\'m a little off it\\nBut nothin\\' like a lost cause\\nCatch me when I\\'m nervous\\nListen to my sad song\\nNobody is perfect\\nYou\\'ll know it now that I\\'m gone\\n\\nBurial\\nI\\'m broken but you can\\'t break me\\nBurial\\nYou put me in the ground with the dailies, yeah\\nBurial\\nLove is just a game that I cannot see\\nBurial\\nOoh, you\\'re dead to me, yeah\\n\\nBurial, burial\\nBurial, burial\\nBurial, damn\\nWoah\\n\\n(Ooh, ooh)\\n(Ooh, ooh)\\n(Ooh, ooh)\\n\\n\\r\\nOh, this is really more than I could ask for\\nThis is really more than I planned on\\nThis is even more than I wanted\\nOh, this is really more than I could ask for\\nThis is even more than I planned on\\nThis is even more than I wanted\\n\\nI was lookin\\' for a sign\\nOh, baby, I don\\'t know mine\\nTo the older days, to save the song\\nI was lookin\\' in my soul\\nPissin\\' in the fire is my ride\\nOh, baby, I-I-I-I\\nCrawl to me inside, yeah, talk to me tonight, yeah\\nFall into my eyes, yeah\\n\\nOh, this is even more than I asked for\\nThis is even more than I planned on\\nThis is even more than I wanted\\nOh, this is even more than I asked for\\nThis is even more than I planned on\\nThis is even more than I wanted\\n\\nBorn with my limelight on fire\\nBut, baby, I\\'m not tired\\nI cross the bridge and I\\nI definitely lookin\\' for your eyes\\nAnd no one knows my fate\\nBut, baby, I\\'m insane\\nI will cross a hundred roads low\\nLookin\\' at your photo, crawling\\' out these holes though\\n\\nOh, this is even more than I asked for\\nThis is even more than I planned on\\nThis is even more than I needed\\nOh, this is even more than I asked for\\nThis is even more than I planned on\\nThis is even more than I needed\\n\\nAhh-oh\\nAhh-oh (Ahh-oh)\\nAhh\\nAhh-oh (Ahh-oh)\\nAhh-oh (Ahh-oh)\\nAhh\\n\\nOh, this is even more than I asked for\\nThan I planned on\\nAhh\\n'"
      ]
     },
     "execution_count": 61,
     "metadata": {},
     "output_type": "execute_result"
    }
   ],
   "source": [
    "dataset"
   ]
  },
  {
   "cell_type": "code",
   "execution_count": 66,
   "metadata": {},
   "outputs": [],
   "source": [
    "import ngram as ng"
   ]
  },
  {
   "cell_type": "code",
   "execution_count": 74,
   "metadata": {},
   "outputs": [],
   "source": [
    "tokens = ng.tokenize(dataset)\n",
    "fourgram = ng.NGramLM(3, tokens)"
   ]
  },
  {
   "cell_type": "code",
   "execution_count": 77,
   "metadata": {},
   "outputs": [
    {
     "name": "stdout",
     "output_type": "stream",
     "text": [
      "\u0002 You ' ll spend with me Your temporary time , so we ' re only a deleter Tell your friends that you ' re with you \u0003 \u0002 I ' ve always been a healer No , I ' ve got another chance I ' ll be great pretenders One more and then I ' m insane I will cross a hundred roads low Lookin ' at your photo , crawling ' out of time \u0003 \u0002 This is even more than I wanted \u0003 \u0002 Is it your ego ? Or is it all that shit inside Let ' s livin ' in the fire Just move , come on and get close We gon ' push it even further \u0003 \u0002 All we need is a little cooperation ( I ' m goin ' home \u0003 \u0002 All this time I think they ' re with you I ' d summon all the side effects before I get ahead of myself ? I know you ' re only a deleter No , I don ' t think I ' ll find yourself runnin ' from But we don ' t make it right \u0003 \u0002 The night ' s just the truth , come over \u0003 \u0002 I ' ve got a ticket to a carnival tonight , yeah Ooh , ooh ) ( Oh ) \u0003 \u0002 Yeah , yeah \u0003 \u0002 ( Oh , oh ) Ahh - oh ) Yeah , there ' s set it on fire ( Buncha kids and we ' re playin ' with matches , yeah ( Ooh , ooh ) \u0003 \u0002 Inside out Yeah , we just got to turn ourselves Inside out Yeah , we are on our own You - I - I , me -\n"
     ]
    }
   ],
   "source": [
    "print(fourgram.sample(300))"
   ]
  },
  {
   "cell_type": "markdown",
   "metadata": {},
   "source": [
    "# EDA for one artist\n",
    "## TODO"
   ]
  },
  {
   "cell_type": "markdown",
   "metadata": {},
   "source": [
    "# ngram overview\n",
    "## TODO"
   ]
  },
  {
   "cell_type": "code",
   "execution_count": null,
   "metadata": {},
   "outputs": [],
   "source": []
  }
 ],
 "metadata": {
  "kernelspec": {
   "display_name": "Python 3",
   "language": "python",
   "name": "python3"
  },
  "language_info": {
   "codemirror_mode": {
    "name": "ipython",
    "version": 3
   },
   "file_extension": ".py",
   "mimetype": "text/x-python",
   "name": "python",
   "nbconvert_exporter": "python",
   "pygments_lexer": "ipython3",
   "version": "3.7.4"
  }
 },
 "nbformat": 4,
 "nbformat_minor": 4
}
